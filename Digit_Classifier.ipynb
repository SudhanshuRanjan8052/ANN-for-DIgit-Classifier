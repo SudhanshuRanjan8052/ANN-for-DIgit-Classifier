{
  "nbformat": 4,
  "nbformat_minor": 0,
  "metadata": {
    "colab": {
      "provenance": []
    },
    "kernelspec": {
      "name": "python3",
      "display_name": "Python 3"
    },
    "language_info": {
      "name": "python"
    },
    "accelerator": "GPU",
    "gpuClass": "standard"
  },
  "cells": [
    {
      "cell_type": "code",
      "source": [
        "from PIL import Image\n",
        "from sklearn.neural_network import MLPClassifier\n",
        "from sklearn.metrics import confusion_matrix\n",
        "import joblib\n",
        "import numpy as np\n",
        "import mnist"
      ],
      "metadata": {
        "id": "GwVqfwsa0Bb3"
      },
      "execution_count": 2,
      "outputs": []
    },
    {
      "cell_type": "code",
      "source": [
        "#Training\n",
        "x_train = mnist.train_images()\n",
        "y_train = mnist.train_labels()\n",
        "\n",
        "x_test = mnist.test_images()\n",
        "y_test = mnist.test_labels()"
      ],
      "metadata": {
        "id": "ZNsVTrKY0IhR"
      },
      "execution_count": 3,
      "outputs": []
    },
    {
      "cell_type": "code",
      "source": [
        "x_train = x_train.reshape((-1,28*28))\n",
        "x_test = x_test.reshape((-1,28*28))"
      ],
      "metadata": {
        "id": "V0oPmb_b0L2o"
      },
      "execution_count": 6,
      "outputs": []
    },
    {
      "cell_type": "code",
      "source": [
        "x_train = (x_train)/256\n",
        "x_test = (x_test)/256"
      ],
      "metadata": {
        "id": "oMnifTrl0QMg"
      },
      "execution_count": 7,
      "outputs": []
    },
    {
      "cell_type": "code",
      "source": [
        "clf = MLPClassifier(solver=\"adam\",activation=\"relu\",hidden_layer_sizes=(70,70))"
      ],
      "metadata": {
        "id": "vNwjgcAz0dWQ"
      },
      "execution_count": 10,
      "outputs": []
    },
    {
      "cell_type": "code",
      "source": [
        "clf.fit(x_train,y_train)"
      ],
      "metadata": {
        "colab": {
          "base_uri": "https://localhost:8080/"
        },
        "id": "8jluZ1KR0hCG",
        "outputId": "cb6019d6-695e-44db-b2a3-20ee7f2ddae7"
      },
      "execution_count": 11,
      "outputs": [
        {
          "output_type": "execute_result",
          "data": {
            "text/plain": [
              "MLPClassifier(hidden_layer_sizes=(70, 70))"
            ]
          },
          "metadata": {},
          "execution_count": 11
        }
      ]
    },
    {
      "cell_type": "code",
      "source": [
        "prediction = clf.predict(x_test)"
      ],
      "metadata": {
        "id": "_f4pE45Z0nJ9"
      },
      "execution_count": 12,
      "outputs": []
    },
    {
      "cell_type": "code",
      "source": [
        "acc = confusion_matrix(y_test,prediction)"
      ],
      "metadata": {
        "id": "J8cSs1Dl1KRc"
      },
      "execution_count": 13,
      "outputs": []
    },
    {
      "cell_type": "code",
      "source": [
        "print(acc)"
      ],
      "metadata": {
        "colab": {
          "base_uri": "https://localhost:8080/"
        },
        "id": "A7pA_zye1ZQG",
        "outputId": "0dc63a74-ccf8-48ad-c708-8308a18acd3b"
      },
      "execution_count": 14,
      "outputs": [
        {
          "output_type": "stream",
          "name": "stdout",
          "text": [
            "[[ 971    0    0    3    2    0    1    1    1    1]\n",
            " [   0 1124    3    1    0    0    2    1    4    0]\n",
            " [   1    0 1014    3    2    0    2    5    4    1]\n",
            " [   0    0    7  984    0    3    0    5    4    7]\n",
            " [   1    1    3    0  959    1    4    2    1   10]\n",
            " [   2    0    0   11    2  867    5    0    3    2]\n",
            " [   5    2    2    2    2    5  940    0    0    0]\n",
            " [   2    1    8    2    2    0    0 1006    1    6]\n",
            " [   3    0    3    8    4    6    4    2  940    4]\n",
            " [   1    3    0    3    6    6    1    3    6  980]]\n"
          ]
        }
      ]
    },
    {
      "cell_type": "code",
      "source": [
        "def accuracy(cm):\n",
        "  diagonal = cm.trace()\n",
        "  ele = cm.sum()\n",
        "  return diagonal/ele"
      ],
      "metadata": {
        "id": "lQxzLGIL1dKs"
      },
      "execution_count": 15,
      "outputs": []
    },
    {
      "cell_type": "code",
      "source": [
        "result = accuracy(acc)"
      ],
      "metadata": {
        "id": "34iQNQ1f16Vl"
      },
      "execution_count": 16,
      "outputs": []
    },
    {
      "cell_type": "code",
      "source": [
        "print(result) #accuracy"
      ],
      "metadata": {
        "colab": {
          "base_uri": "https://localhost:8080/"
        },
        "id": "0S_Bm9V52Hll",
        "outputId": "52c6415b-1e53-4e0d-8ad8-3dda148dd7f0"
      },
      "execution_count": 17,
      "outputs": [
        {
          "output_type": "stream",
          "name": "stdout",
          "text": [
            "0.9785\n"
          ]
        }
      ]
    },
    {
      "cell_type": "code",
      "source": [
        "joblib.dump(clf,\"model.sav\")"
      ],
      "metadata": {
        "colab": {
          "base_uri": "https://localhost:8080/"
        },
        "id": "bwQ-pCz42LVO",
        "outputId": "4dabf328-a714-4146-cf33-71cc33f5c521"
      },
      "execution_count": 18,
      "outputs": [
        {
          "output_type": "execute_result",
          "data": {
            "text/plain": [
              "['model.sav']"
            ]
          },
          "metadata": {},
          "execution_count": 18
        }
      ]
    },
    {
      "cell_type": "code",
      "source": [],
      "metadata": {
        "id": "SSV5JJS23DZE"
      },
      "execution_count": null,
      "outputs": []
    }
  ]
}